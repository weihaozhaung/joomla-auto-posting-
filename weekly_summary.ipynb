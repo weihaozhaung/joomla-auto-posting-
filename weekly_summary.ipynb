{
 "cells": [
  {
   "cell_type": "markdown",
   "metadata": {},
   "source": [
    "### 引入套件"
   ]
  },
  {
   "cell_type": "code",
   "execution_count": 39,
   "metadata": {},
   "outputs": [],
   "source": [
    "import selenium\n",
    "import pandas as pd\n",
    "import time\n",
    "from selenium.webdriver.common.keys import Keys"
   ]
  },
  {
   "cell_type": "markdown",
   "metadata": {},
   "source": [
    "### 自定義函式"
   ]
  },
  {
   "cell_type": "code",
   "execution_count": 40,
   "metadata": {},
   "outputs": [],
   "source": [
    "def convert_Month(x):\n",
    "    return {\n",
    "        '一月': 1,\n",
    "        '二月': 2,\n",
    "        '三月': 3,\n",
    "        '四月': 4,\n",
    "        '五月': 5,\n",
    "        '六月': 6,\n",
    "        '七月': 7,\n",
    "        '八月': 8,\n",
    "        '九月': 9,\n",
    "        '十月': 10,\n",
    "        '十一月': 11,\n",
    "        '十二月': 12\n",
    "    }[x]"
   ]
  },
  {
   "cell_type": "markdown",
   "metadata": {},
   "source": [
    "### WebDriver"
   ]
  },
  {
   "cell_type": "code",
   "execution_count": 41,
   "metadata": {},
   "outputs": [],
   "source": [
    "driver = selenium.webdriver.Chrome()"
   ]
  },
  {
   "cell_type": "markdown",
   "metadata": {},
   "source": [
    "#  BIG DATA FINANCE"
   ]
  },
  {
   "cell_type": "code",
   "execution_count": 42,
   "metadata": {},
   "outputs": [],
   "source": [
    "driver.get('https://bigdatafinance.tw')"
   ]
  },
  {
   "cell_type": "markdown",
   "metadata": {},
   "source": [
    "### 貼文的圖片"
   ]
  },
  {
   "cell_type": "code",
   "execution_count": 43,
   "metadata": {},
   "outputs": [],
   "source": [
    "driver.find_element_by_xpath('//*[@id=\"t3-mainnav\"]/div/nav[2]/div/ul/li[3]/a').click()\n",
    "\n",
    "graph = driver.find_elements_by_xpath(\"//div[@class='row blog-item'][1]//a/img\")\n",
    "Main_graph = graph[0].get_attribute(\"src\")"
   ]
  },
  {
   "cell_type": "code",
   "execution_count": null,
   "metadata": {},
   "outputs": [],
   "source": []
  },
  {
   "cell_type": "markdown",
   "metadata": {},
   "source": [
    "### 起始日和終止日"
   ]
  },
  {
   "cell_type": "code",
   "execution_count": 44,
   "metadata": {},
   "outputs": [],
   "source": [
    "strDate = 20200512\n",
    "endDate = 20200518"
   ]
  },
  {
   "cell_type": "markdown",
   "metadata": {},
   "source": [
    "### 貼文資料表"
   ]
  },
  {
   "cell_type": "code",
   "execution_count": 45,
   "metadata": {},
   "outputs": [],
   "source": [
    "Textdata = pd.DataFrame()"
   ]
  },
  {
   "cell_type": "code",
   "execution_count": 46,
   "metadata": {
    "scrolled": false
   },
   "outputs": [],
   "source": [
    "i = 3\n",
    "\n",
    "while i < 8:\n",
    "    \n",
    "    driver.find_element_by_xpath('//*[@id=\"t3-mainnav\"]/div/nav[2]/div/ul/li[%s]/a'%i).click()\n",
    "    \n",
    "    ix = 1\n",
    "    while True :\n",
    "        Title = ''\n",
    "        Title = driver.find_element_by_xpath(\"//div[@class='row blog-item'][%s]//h2[@class='article-title']/a\"%ix).text\n",
    "        link = driver.find_elements_by_xpath(\"//div[@class='row blog-item'][%s]//h2[@class='article-title']/a\"%ix)\n",
    "        Link = ''\n",
    "        try: Link = link[0].get_attribute('href')\n",
    "        except: Link = ''\n",
    "        date = driver.find_element_by_xpath(\"//div[@class='row blog-item'][%s]//dd[@class='create']\"%ix).text\n",
    "        Date = ''\n",
    "        Date = int(date.split(' ')[3])*10000+convert_Month(date.split(' ')[2])*100+int(date.split(' ')[1])\n",
    "        if Date>endDate:\n",
    "            next\n",
    "        if Date<strDate or ix>11:\n",
    "            break\n",
    "        try: Summary = driver.find_element_by_xpath(\"//div[@class='row blog-item'][%s]//h4\"%ix).text\n",
    "        except: Summary = ''\n",
    "        Temp = pd.DataFrame({\"Title\" : [Title],\"Date\" : [Date],\"Summary\" : [Summary],\"Link\" : [Link] })\n",
    "        Textdata=Textdata.append(Temp)\n",
    "        ix+=1\n",
    "        \n",
    "    i+=1\n",
    "    "
   ]
  },
  {
   "cell_type": "code",
   "execution_count": 47,
   "metadata": {
    "scrolled": true
   },
   "outputs": [
    {
     "data": {
      "text/html": [
       "<div>\n",
       "<style scoped>\n",
       "    .dataframe tbody tr th:only-of-type {\n",
       "        vertical-align: middle;\n",
       "    }\n",
       "\n",
       "    .dataframe tbody tr th {\n",
       "        vertical-align: top;\n",
       "    }\n",
       "\n",
       "    .dataframe thead th {\n",
       "        text-align: right;\n",
       "    }\n",
       "</style>\n",
       "<table border=\"1\" class=\"dataframe\">\n",
       "  <thead>\n",
       "    <tr style=\"text-align: right;\">\n",
       "      <th></th>\n",
       "      <th>Title</th>\n",
       "      <th>Date</th>\n",
       "      <th>Summary</th>\n",
       "      <th>Link</th>\n",
       "    </tr>\n",
       "  </thead>\n",
       "  <tbody>\n",
       "    <tr>\n",
       "      <th>0</th>\n",
       "      <td>THREE STEPS TO USING SENSITIVE DATA FOR FACILI...</td>\n",
       "      <td>20200515</td>\n",
       "      <td>摘要： In 2020, companies face an operational env...</td>\n",
       "      <td>https://bigdatafinance.tw/index.php/finance/17...</td>\n",
       "    </tr>\n",
       "    <tr>\n",
       "      <th>0</th>\n",
       "      <td>5 DATA SOURCES THAT ECOMMERCE COMPANIES SHOULD...</td>\n",
       "      <td>20200515</td>\n",
       "      <td>摘要： Many e-commerce companies are looking to l...</td>\n",
       "      <td>https://bigdatafinance.tw/index.php/finance/ot...</td>\n",
       "    </tr>\n",
       "    <tr>\n",
       "      <th>0</th>\n",
       "      <td>數位人民幣將上路！支付寶、微信會被取代嗎？7大常見問題整理</td>\n",
       "      <td>20200514</td>\n",
       "      <td>摘要： 究竟數位貨幣是什麼？跟密碼貨幣、支付寶、微信有何不同？《數位時代》整理了常見的七大疑問。</td>\n",
       "      <td>https://bigdatafinance.tw/index.php/finance/fi...</td>\n",
       "    </tr>\n",
       "    <tr>\n",
       "      <th>0</th>\n",
       "      <td>Digital transformation: What CIOs are accelera...</td>\n",
       "      <td>20200517</td>\n",
       "      <td>摘要： While many aspects of life remain on hold,...</td>\n",
       "      <td>https://bigdatafinance.tw/index.php/non-financ...</td>\n",
       "    </tr>\n",
       "    <tr>\n",
       "      <th>0</th>\n",
       "      <td>5 ways to attract top IT talent</td>\n",
       "      <td>20200517</td>\n",
       "      <td>摘要： Attracting and retaining the most talented...</td>\n",
       "      <td>https://bigdatafinance.tw/index.php/non-financ...</td>\n",
       "    </tr>\n",
       "    <tr>\n",
       "      <th>0</th>\n",
       "      <td>AI reality check: 6 statistics on IT hopes and...</td>\n",
       "      <td>20200517</td>\n",
       "      <td>摘要： What do IT professionals really think abou...</td>\n",
       "      <td>https://bigdatafinance.tw/index.php/non-financ...</td>\n",
       "    </tr>\n",
       "    <tr>\n",
       "      <th>0</th>\n",
       "      <td>Navigating the crisis: How my team balances co...</td>\n",
       "      <td>20200517</td>\n",
       "      <td>摘要： Sumo Logic's chief security officer explai...</td>\n",
       "      <td>https://bigdatafinance.tw/index.php/non-financ...</td>\n",
       "    </tr>\n",
       "    <tr>\n",
       "      <th>0</th>\n",
       "      <td>LogMeIn CIO: This is IT's time to shine on bus...</td>\n",
       "      <td>20200517</td>\n",
       "      <td>摘要： The spotlight is extremely bright right no...</td>\n",
       "      <td>https://bigdatafinance.tw/index.php/non-financ...</td>\n",
       "    </tr>\n",
       "    <tr>\n",
       "      <th>0</th>\n",
       "      <td>Managing Kubernetes: 7 things you should under...</td>\n",
       "      <td>20200517</td>\n",
       "      <td>摘要： Teams can run into problems when they trea...</td>\n",
       "      <td>https://bigdatafinance.tw/index.php/non-financ...</td>\n",
       "    </tr>\n",
       "    <tr>\n",
       "      <th>0</th>\n",
       "      <td>Vanguard CIO: 5 principles helping us navigate...</td>\n",
       "      <td>20200517</td>\n",
       "      <td>摘要： Vanguard went from five to 95 percent of s...</td>\n",
       "      <td>https://bigdatafinance.tw/index.php/non-financ...</td>\n",
       "    </tr>\n",
       "    <tr>\n",
       "      <th>0</th>\n",
       "      <td>Digital transformation: Why this is a smart ti...</td>\n",
       "      <td>20200517</td>\n",
       "      <td>摘要： Will added digital transformation work ove...</td>\n",
       "      <td>https://bigdatafinance.tw/index.php/non-financ...</td>\n",
       "    </tr>\n",
       "    <tr>\n",
       "      <th>0</th>\n",
       "      <td>Remote development teams: 5 ways to promote pr...</td>\n",
       "      <td>20200517</td>\n",
       "      <td>摘要： Successful development teams must balance ...</td>\n",
       "      <td>https://bigdatafinance.tw/index.php/non-financ...</td>\n",
       "    </tr>\n",
       "    <tr>\n",
       "      <th>0</th>\n",
       "      <td>4 best practices for newly remote teams</td>\n",
       "      <td>20200517</td>\n",
       "      <td>摘要： Handled wisely, this forced remote transit...</td>\n",
       "      <td>https://bigdatafinance.tw/index.php/non-financ...</td>\n",
       "    </tr>\n",
       "    <tr>\n",
       "      <th>0</th>\n",
       "      <td>IT careers: 8 telling statistics on jobs and h...</td>\n",
       "      <td>20200517</td>\n",
       "      <td>摘要： What's happening in the IT jobs market dur...</td>\n",
       "      <td>https://bigdatafinance.tw/index.php/non-financ...</td>\n",
       "    </tr>\n",
       "    <tr>\n",
       "      <th>0</th>\n",
       "      <td>HOW DANGEROUS NEWS SPREADS: WHAT MAKES TWITTER...</td>\n",
       "      <td>20200515</td>\n",
       "      <td>摘要： Scientists uncover how information related...</td>\n",
       "      <td>https://bigdatafinance.tw/index.php/trend/1785...</td>\n",
       "    </tr>\n",
       "  </tbody>\n",
       "</table>\n",
       "</div>"
      ],
      "text/plain": [
       "                                               Title      Date  \\\n",
       "0  THREE STEPS TO USING SENSITIVE DATA FOR FACILI...  20200515   \n",
       "0  5 DATA SOURCES THAT ECOMMERCE COMPANIES SHOULD...  20200515   \n",
       "0                      數位人民幣將上路！支付寶、微信會被取代嗎？7大常見問題整理  20200514   \n",
       "0  Digital transformation: What CIOs are accelera...  20200517   \n",
       "0                    5 ways to attract top IT talent  20200517   \n",
       "0  AI reality check: 6 statistics on IT hopes and...  20200517   \n",
       "0  Navigating the crisis: How my team balances co...  20200517   \n",
       "0  LogMeIn CIO: This is IT's time to shine on bus...  20200517   \n",
       "0  Managing Kubernetes: 7 things you should under...  20200517   \n",
       "0  Vanguard CIO: 5 principles helping us navigate...  20200517   \n",
       "0  Digital transformation: Why this is a smart ti...  20200517   \n",
       "0  Remote development teams: 5 ways to promote pr...  20200517   \n",
       "0            4 best practices for newly remote teams  20200517   \n",
       "0  IT careers: 8 telling statistics on jobs and h...  20200517   \n",
       "0  HOW DANGEROUS NEWS SPREADS: WHAT MAKES TWITTER...  20200515   \n",
       "\n",
       "                                             Summary  \\\n",
       "0  摘要： In 2020, companies face an operational env...   \n",
       "0  摘要： Many e-commerce companies are looking to l...   \n",
       "0   摘要： 究竟數位貨幣是什麼？跟密碼貨幣、支付寶、微信有何不同？《數位時代》整理了常見的七大疑問。   \n",
       "0  摘要： While many aspects of life remain on hold,...   \n",
       "0  摘要： Attracting and retaining the most talented...   \n",
       "0  摘要： What do IT professionals really think abou...   \n",
       "0  摘要： Sumo Logic's chief security officer explai...   \n",
       "0  摘要： The spotlight is extremely bright right no...   \n",
       "0  摘要： Teams can run into problems when they trea...   \n",
       "0  摘要： Vanguard went from five to 95 percent of s...   \n",
       "0  摘要： Will added digital transformation work ove...   \n",
       "0  摘要： Successful development teams must balance ...   \n",
       "0  摘要： Handled wisely, this forced remote transit...   \n",
       "0  摘要： What's happening in the IT jobs market dur...   \n",
       "0  摘要： Scientists uncover how information related...   \n",
       "\n",
       "                                                Link  \n",
       "0  https://bigdatafinance.tw/index.php/finance/17...  \n",
       "0  https://bigdatafinance.tw/index.php/finance/ot...  \n",
       "0  https://bigdatafinance.tw/index.php/finance/fi...  \n",
       "0  https://bigdatafinance.tw/index.php/non-financ...  \n",
       "0  https://bigdatafinance.tw/index.php/non-financ...  \n",
       "0  https://bigdatafinance.tw/index.php/non-financ...  \n",
       "0  https://bigdatafinance.tw/index.php/non-financ...  \n",
       "0  https://bigdatafinance.tw/index.php/non-financ...  \n",
       "0  https://bigdatafinance.tw/index.php/non-financ...  \n",
       "0  https://bigdatafinance.tw/index.php/non-financ...  \n",
       "0  https://bigdatafinance.tw/index.php/non-financ...  \n",
       "0  https://bigdatafinance.tw/index.php/non-financ...  \n",
       "0  https://bigdatafinance.tw/index.php/non-financ...  \n",
       "0  https://bigdatafinance.tw/index.php/non-financ...  \n",
       "0  https://bigdatafinance.tw/index.php/trend/1785...  "
      ]
     },
     "execution_count": 47,
     "metadata": {},
     "output_type": "execute_result"
    }
   ],
   "source": [
    "Textdata"
   ]
  },
  {
   "cell_type": "markdown",
   "metadata": {},
   "source": [
    "### 改成原始碼形式"
   ]
  },
  {
   "cell_type": "code",
   "execution_count": 48,
   "metadata": {},
   "outputs": [
    {
     "name": "stdout",
     "output_type": "stream",
     "text": [
      "0\n",
      "1\n",
      "2\n",
      "3\n",
      "4\n",
      "5\n",
      "6\n",
      "7\n",
      "8\n",
      "9\n",
      "10\n",
      "11\n",
      "12\n",
      "13\n",
      "14\n"
     ]
    }
   ],
   "source": [
    "SourceCode = pd.DataFrame({'Text' : ['<h4 style=\"color: red; margin-bottom: 2.25rem\">']})\n",
    "SourceCode = SourceCode.append(pd.DataFrame({'Text' : ['摘要： <span style=\"color: black\">'+'Weekly Summary '+str(strDate)+' ~ '+str(endDate)+'</span></h4>']}))\n",
    "SourceCode = SourceCode.append(pd.DataFrame({'Text' : ['<hr id=\"system-readmore\" />']}))\n",
    "SourceCode = SourceCode.append(pd.DataFrame({'Text' : ['<div style=\"line-height: 32px; font-size: 14pt;\">']}))\n",
    "for iy in range(len(Textdata)):\n",
    "    SourceCode = SourceCode.append(pd.DataFrame({'Text' : ['<h2 class=\"article-title\" itemprop=\"name\" style=\"box-sizing: border-box; color: rgb(68, 68, 68); caret-color: rgb(68, 68, 68);\"><a href=\"'+Textdata['Link'].iloc[iy]+'\" itemprop=\"url\" style=\"box-sizing: border-box; background-color: transparent;\" title=\"\">'+Textdata['Title'].iloc[iy]+'</a></h1>']}))\n",
    "    SourceCode = SourceCode.append(pd.DataFrame({'Text' : ['<h4 style=\"box-sizing: border-box; color: red; margin-bottom: 2.25rem;\">']}))\n",
    "    SourceCode = SourceCode.append(pd.DataFrame({'Text' : ['<span style=\"box-sizing: border-box; color: black;\">'+Textdata['Summary'].iloc[iy]+'</span></h4><p>']}))\n",
    "    print(iy)\n",
    "SourceCode = SourceCode.append(pd.DataFrame({'Text' : ['<p style=\"color: ; margin-bottom: 2.25rem\">']})) \n",
    "SourceCode = SourceCode.append(pd.DataFrame({'Text' : ['若喜歡本文，請關注我們的臉書 Please Like our Facebook Page：']}))\n",
    "SourceCode = SourceCode.append(pd.DataFrame({'Text' : ['<a href=\"http://www.facebook.com/bigdatafin/\" style=\"color: navy;\">']}))\n",
    "SourceCode = SourceCode.append(pd.DataFrame({'Text' : ['　　　Big Data In Finance</a></p>']}))"
   ]
  },
  {
   "cell_type": "markdown",
   "metadata": {},
   "source": [
    "### 存成csv"
   ]
  },
  {
   "cell_type": "code",
   "execution_count": 49,
   "metadata": {},
   "outputs": [],
   "source": [
    "SourceCode.to_csv('Weekly_Summary_'+str(time.localtime(time.time()).tm_year)+'_'+str(time.localtime(time.time()).tm_mon)+'_'+str(time.localtime(time.time()).tm_mday)+'.csv',encoding='utf_8_sig')"
   ]
  },
  {
   "cell_type": "markdown",
   "metadata": {},
   "source": [
    "### 到網站後台"
   ]
  },
  {
   "cell_type": "code",
   "execution_count": 50,
   "metadata": {
    "scrolled": true
   },
   "outputs": [],
   "source": [
    "driver.get('https://bigdatafinance.tw/administrator/index.php')"
   ]
  },
  {
   "cell_type": "code",
   "execution_count": 51,
   "metadata": {},
   "outputs": [],
   "source": [
    "driver.find_element_by_id('mod-login-username').clear()\n",
    "driver.find_element_by_id('mod-login-username').send_keys('[Username]')\n",
    "driver.find_element_by_id('mod-login-password').clear()\n",
    "driver.find_element_by_id ('mod-login-password').send_keys('[Password]')\n",
    "driver.find_element_by_xpath('//button').click()"
   ]
  },
  {
   "cell_type": "markdown",
   "metadata": {},
   "source": [
    "### 新增文章"
   ]
  },
  {
   "cell_type": "code",
   "execution_count": 52,
   "metadata": {},
   "outputs": [],
   "source": [
    "driver.find_element_by_xpath(\"//ul[@class='j-links-group nav nav-list'][1]/li[1]\").click()"
   ]
  },
  {
   "cell_type": "markdown",
   "metadata": {},
   "source": [
    "### 原始碼"
   ]
  },
  {
   "cell_type": "code",
   "execution_count": 56,
   "metadata": {
    "scrolled": true
   },
   "outputs": [],
   "source": [
    "driver.find_element_by_xpath(\"//span[@id='cke_6_label']\").click()"
   ]
  },
  {
   "cell_type": "code",
   "execution_count": 57,
   "metadata": {
    "scrolled": true
   },
   "outputs": [
    {
     "name": "stdout",
     "output_type": "stream",
     "text": [
      "1/54\n",
      "2/54\n",
      "3/54\n",
      "4/54\n",
      "5/54\n",
      "6/54\n",
      "7/54\n",
      "8/54\n",
      "9/54\n",
      "10/54\n",
      "11/54\n",
      "12/54\n",
      "13/54\n",
      "14/54\n",
      "15/54\n",
      "16/54\n",
      "17/54\n",
      "18/54\n",
      "19/54\n",
      "20/54\n",
      "21/54\n",
      "22/54\n",
      "23/54\n",
      "24/54\n",
      "25/54\n",
      "26/54\n",
      "27/54\n",
      "28/54\n",
      "29/54\n",
      "30/54\n",
      "31/54\n",
      "32/54\n",
      "33/54\n",
      "34/54\n",
      "35/54\n",
      "36/54\n",
      "37/54\n",
      "38/54\n",
      "39/54\n",
      "40/54\n",
      "41/54\n",
      "42/54\n",
      "43/54\n",
      "44/54\n",
      "45/54\n",
      "46/54\n",
      "47/54\n",
      "48/54\n",
      "49/54\n",
      "50/54\n",
      "51/54\n",
      "52/54\n",
      "53/54\n"
     ]
    }
   ],
   "source": [
    "for iz in range(len(SourceCode)):\n",
    "    driver.find_element_by_xpath(\"//textarea[@class='cke_source cke_enable_context_menu']\").send_keys(SourceCode['Text'].iloc[iz])\n",
    "    driver.find_element_by_xpath(\"//textarea[@class='cke_source cke_enable_context_menu']\").send_keys(Keys.ENTER)\n",
    "    print(str(iz+1)+'/'+str(len(SourceCode)+1))"
   ]
  },
  {
   "cell_type": "code",
   "execution_count": 58,
   "metadata": {},
   "outputs": [],
   "source": [
    "driver.find_element_by_xpath(\"//span[@id='cke_6_label']\").click()"
   ]
  },
  {
   "cell_type": "markdown",
   "metadata": {},
   "source": [
    "### 文章名稱"
   ]
  },
  {
   "cell_type": "code",
   "execution_count": 59,
   "metadata": {
    "scrolled": true
   },
   "outputs": [],
   "source": [
    "driver.find_element_by_xpath(\"//input[@id='jform_title']\").send_keys('Weekly Summary '+str(strDate)+' ~ '+str(endDate))"
   ]
  },
  {
   "cell_type": "markdown",
   "metadata": {},
   "source": [
    "### 文章類別"
   ]
  },
  {
   "cell_type": "code",
   "execution_count": 60,
   "metadata": {},
   "outputs": [],
   "source": [
    "driver.find_element_by_xpath(\"//fieldset[@class='form-vertical']/div[@class='control-group'][2]//a\").click()"
   ]
  },
  {
   "cell_type": "code",
   "execution_count": 61,
   "metadata": {},
   "outputs": [],
   "source": [
    "driver.find_element_by_xpath(\"//div[@class='controls']/div[@id='jform_catid_chzn']/div[@class='chzn-drop']/div[@class='chzn-search']/input\").send_keys('- WORK')\n",
    "driver.find_element_by_xpath(\"//div[@class='controls']/div[@id='jform_catid_chzn']/div[@class='chzn-drop']/div[@class='chzn-search']/input\").send_keys(Keys.ENTER)"
   ]
  },
  {
   "cell_type": "code",
   "execution_count": 62,
   "metadata": {
    "scrolled": true
   },
   "outputs": [
    {
     "data": {
      "text/plain": [
       "'https://dataconomy.com/wp-content/uploads/2020/04/chris-liverani-dBI_My696Rk-unsplash-360x270.jpg'"
      ]
     },
     "execution_count": 62,
     "metadata": {},
     "output_type": "execute_result"
    }
   ],
   "source": [
    "Main_graph"
   ]
  },
  {
   "cell_type": "code",
   "execution_count": null,
   "metadata": {},
   "outputs": [],
   "source": []
  }
 ],
 "metadata": {
  "kernelspec": {
   "display_name": "Python 3",
   "language": "python",
   "name": "python3"
  },
  "language_info": {
   "codemirror_mode": {
    "name": "ipython",
    "version": 3
   },
   "file_extension": ".py",
   "mimetype": "text/x-python",
   "name": "python",
   "nbconvert_exporter": "python",
   "pygments_lexer": "ipython3",
   "version": "3.7.1"
  }
 },
 "nbformat": 4,
 "nbformat_minor": 2
}
